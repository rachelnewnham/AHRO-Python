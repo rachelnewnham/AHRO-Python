{
 "cells": [
  {
   "cell_type": "markdown",
   "metadata": {
    "colab_type": "text",
    "id": "view-in-github"
   },
   "source": [
    "<a href=\"https://colab.research.google.com/github/rachelnewnham/AHRO-Python/blob/main/Trying%20to%20do%20tests.ipynb\" target=\"_parent\"><img src=\"https://colab.research.google.com/assets/colab-badge.svg\" alt=\"Open In Colab\"/></a>"
   ]
  },
  {
   "cell_type": "markdown",
   "metadata": {
    "id": "joBoHgrsy7Dx"
   },
   "source": [
    "# It's an explanation\n",
    "This is a document in which I will try to work out how to process data from various sources into data that can be uploaded into a DSpace repository\n"
   ]
  },
  {
   "cell_type": "markdown",
   "metadata": {},
   "source": [
    "First we need to write some pseudocode about how we will do this activity:\n",
    "\n",
    "### Pseudocode for our exercise\n",
    "Step 0: Upload the libraries you need to run your script\n",
    "\n",
    "Step 1: Upload our csv or dublin core metadata\n",
    "\n",
    "Step 2: Preprocess the data so it is ready to be turned into an xml file\n",
    "\n",
    "Step 3: Turn the data into an xml file\n",
    "\n",
    "Step 4: print out the xml to see if it works"
   ]
  },
  {
   "cell_type": "code",
   "execution_count": 15,
   "metadata": {
    "id": "oku4tf3DzSgB"
   },
   "outputs": [],
   "source": [
    "import pandas as pd"
   ]
  },
  {
   "cell_type": "code",
   "execution_count": 16,
   "metadata": {
    "id": "JgqTXdjyzlA6"
   },
   "outputs": [
    {
     "data": {
      "text/html": [
       "<div>\n",
       "<style scoped>\n",
       "    .dataframe tbody tr th:only-of-type {\n",
       "        vertical-align: middle;\n",
       "    }\n",
       "\n",
       "    .dataframe tbody tr th {\n",
       "        vertical-align: top;\n",
       "    }\n",
       "\n",
       "    .dataframe thead th {\n",
       "        text-align: right;\n",
       "    }\n",
       "</style>\n",
       "<table border=\"1\" class=\"dataframe\">\n",
       "  <thead>\n",
       "    <tr style=\"text-align: right;\">\n",
       "      <th></th>\n",
       "      <th>Copyright (c) 2000-2021 Ovid Technologies, Inc.</th>\n",
       "      <th>Unnamed: 1</th>\n",
       "      <th>Unnamed: 2</th>\n",
       "      <th>Unnamed: 3</th>\n",
       "      <th>Unnamed: 4</th>\n",
       "      <th>Unnamed: 5</th>\n",
       "      <th>Unnamed: 6</th>\n",
       "      <th>Unnamed: 7</th>\n",
       "      <th>Unnamed: 8</th>\n",
       "      <th>Unnamed: 9</th>\n",
       "      <th>...</th>\n",
       "      <th>Unnamed: 29</th>\n",
       "      <th>Unnamed: 30</th>\n",
       "      <th>Unnamed: 31</th>\n",
       "      <th>Unnamed: 32</th>\n",
       "      <th>Unnamed: 33</th>\n",
       "      <th>Unnamed: 34</th>\n",
       "      <th>Unnamed: 35</th>\n",
       "      <th>Unnamed: 36</th>\n",
       "      <th>Unnamed: 37</th>\n",
       "      <th>Unnamed: 38</th>\n",
       "    </tr>\n",
       "  </thead>\n",
       "  <tbody>\n",
       "    <tr>\n",
       "      <th>0</th>\n",
       "      <td>ORN</td>\n",
       "      <td>VN</td>\n",
       "      <td>DB</td>\n",
       "      <td>UI</td>\n",
       "      <td>ST</td>\n",
       "      <td>TI</td>\n",
       "      <td>SO</td>\n",
       "      <td>AU</td>\n",
       "      <td>AO</td>\n",
       "      <td>AE</td>\n",
       "      <td>...</td>\n",
       "      <td>GA</td>\n",
       "      <td>SU</td>\n",
       "      <td>PT</td>\n",
       "      <td>EM</td>\n",
       "      <td>DD</td>\n",
       "      <td>DC</td>\n",
       "      <td>YR</td>\n",
       "      <td>SI</td>\n",
       "      <td>CR</td>\n",
       "      <td>FTURL</td>\n",
       "    </tr>\n",
       "    <tr>\n",
       "      <th>1</th>\n",
       "      <td>1</td>\n",
       "      <td>Ovid Technologies</td>\n",
       "      <td>Embase</td>\n",
       "      <td>2011127683</td>\n",
       "      <td>In-Process</td>\n",
       "      <td>There is detectable variation in the lipidomic...</td>\n",
       "      <td>Respiratory Research. 22 (1) (no pagination), ...</td>\n",
       "      <td>Nambiar S.\\n\\nClynick B.\\n\\nHow B.S.\\n\\nKing A...</td>\n",
       "      <td>Clynick, Britt; ORCID: http://orcid.org/0000-0...</td>\n",
       "      <td>Clynick B.; britt.clynick@uwa.edu.au</td>\n",
       "      <td>...</td>\n",
       "      <td>We would like to thank the co-ordinators of th...</td>\n",
       "      <td>Journal</td>\n",
       "      <td>Article</td>\n",
       "      <td>202116</td>\n",
       "      <td>20210419</td>\n",
       "      <td>20210418</td>\n",
       "      <td>2021</td>\n",
       "      <td>Enhancement type=\"17\" status=\"001\"</td>\n",
       "      <td>Copyright 2021 Elsevier B.V., All rights reser...</td>\n",
       "      <td>Click here for full text options</td>\n",
       "    </tr>\n",
       "  </tbody>\n",
       "</table>\n",
       "<p>2 rows × 39 columns</p>\n",
       "</div>"
      ],
      "text/plain": [
       "  Copyright (c) 2000-2021 Ovid Technologies, Inc.         Unnamed: 1  \\\n",
       "0                                             ORN                 VN   \n",
       "1                                               1  Ovid Technologies   \n",
       "\n",
       "  Unnamed: 2  Unnamed: 3  Unnamed: 4  \\\n",
       "0         DB          UI          ST   \n",
       "1     Embase  2011127683  In-Process   \n",
       "\n",
       "                                          Unnamed: 5  \\\n",
       "0                                                 TI   \n",
       "1  There is detectable variation in the lipidomic...   \n",
       "\n",
       "                                          Unnamed: 6  \\\n",
       "0                                                 SO   \n",
       "1  Respiratory Research. 22 (1) (no pagination), ...   \n",
       "\n",
       "                                          Unnamed: 7  \\\n",
       "0                                                 AU   \n",
       "1  Nambiar S.\\n\\nClynick B.\\n\\nHow B.S.\\n\\nKing A...   \n",
       "\n",
       "                                          Unnamed: 8  \\\n",
       "0                                                 AO   \n",
       "1  Clynick, Britt; ORCID: http://orcid.org/0000-0...   \n",
       "\n",
       "                             Unnamed: 9  ...  \\\n",
       "0                                    AE  ...   \n",
       "1  Clynick B.; britt.clynick@uwa.edu.au  ...   \n",
       "\n",
       "                                         Unnamed: 29 Unnamed: 30 Unnamed: 31  \\\n",
       "0                                                 GA          SU          PT   \n",
       "1  We would like to thank the co-ordinators of th...     Journal     Article   \n",
       "\n",
       "  Unnamed: 32 Unnamed: 33 Unnamed: 34 Unnamed: 35  \\\n",
       "0          EM          DD          DC          YR   \n",
       "1      202116    20210419    20210418        2021   \n",
       "\n",
       "                          Unnamed: 36  \\\n",
       "0                                  SI   \n",
       "1  Enhancement type=\"17\" status=\"001\"   \n",
       "\n",
       "                                         Unnamed: 37  \\\n",
       "0                                                 CR   \n",
       "1  Copyright 2021 Elsevier B.V., All rights reser...   \n",
       "\n",
       "                        Unnamed: 38  \n",
       "0                             FTURL  \n",
       "1  Click here for full text options  \n",
       "\n",
       "[2 rows x 39 columns]"
      ]
     },
     "execution_count": 16,
     "metadata": {},
     "output_type": "execute_result"
    }
   ],
   "source": [
    "# this file is in the same folder as the notebook\n",
    "df = pd.read_csv(\"bmc2021.csv\")\n",
    "\n",
    "df.head()"
   ]
  },
  {
   "cell_type": "markdown",
   "metadata": {},
   "source": [
    "### We'll see what's in the file"
   ]
  },
  {
   "cell_type": "code",
   "execution_count": 17,
   "metadata": {},
   "outputs": [
    {
     "data": {
      "text/plain": [
       "Index(['Copyright (c) 2000-2021 Ovid Technologies, Inc.', 'Unnamed: 1',\n",
       "       'Unnamed: 2', 'Unnamed: 3', 'Unnamed: 4', 'Unnamed: 5', 'Unnamed: 6',\n",
       "       'Unnamed: 7', 'Unnamed: 8', 'Unnamed: 9', 'Unnamed: 10', 'Unnamed: 11',\n",
       "       'Unnamed: 12', 'Unnamed: 13', 'Unnamed: 14', 'Unnamed: 15',\n",
       "       'Unnamed: 16', 'Unnamed: 17', 'Unnamed: 18', 'Unnamed: 19',\n",
       "       'Unnamed: 20', 'Unnamed: 21', 'Unnamed: 22', 'Unnamed: 23',\n",
       "       'Unnamed: 24', 'Unnamed: 25', 'Unnamed: 26', 'Unnamed: 27',\n",
       "       'Unnamed: 28', 'Unnamed: 29', 'Unnamed: 30', 'Unnamed: 31',\n",
       "       'Unnamed: 32', 'Unnamed: 33', 'Unnamed: 34', 'Unnamed: 35',\n",
       "       'Unnamed: 36', 'Unnamed: 37', 'Unnamed: 38'],\n",
       "      dtype='object')"
      ]
     },
     "execution_count": 17,
     "metadata": {},
     "output_type": "execute_result"
    }
   ],
   "source": [
    "df.columns"
   ]
  },
  {
   "cell_type": "code",
   "execution_count": 18,
   "metadata": {},
   "outputs": [
    {
     "data": {
      "text/plain": [
       "(2, 39)"
      ]
     },
     "execution_count": 18,
     "metadata": {},
     "output_type": "execute_result"
    }
   ],
   "source": [
    "df.shape"
   ]
  },
  {
   "cell_type": "markdown",
   "metadata": {},
   "source": [
    "Import our package to process the file to DC"
   ]
  },
  {
   "cell_type": "code",
   "execution_count": 19,
   "metadata": {},
   "outputs": [],
   "source": [
    "from dcxml import simpledc"
   ]
  },
  {
   "cell_type": "markdown",
   "metadata": {},
   "source": [
    "then we'll make a dictionary from a dataframe"
   ]
  },
  {
   "cell_type": "code",
   "execution_count": 20,
   "metadata": {},
   "outputs": [
    {
     "name": "stdout",
     "output_type": "stream",
     "text": [
      "Help on function convert_df_row_to_dictionary in module jgarber_respitch.workshop_tools:\n",
      "\n",
      "convert_df_row_to_dictionary(df: pandas.core.frame.DataFrame, row_number: int)\n",
      "    converts the row of a dataframe to a dictionary\n",
      "    of lists\n",
      "    \n",
      "    :param df: input dataframe\n",
      "    :type df: pd.DataFrame\n",
      "    :param row_number: row to convert into a dictionary\n",
      "    \n",
      "    :return: dictionary of the values, where keys are the column names, and the values are lists of the values\n",
      "    :rtype: dictionary\n",
      "\n"
     ]
    }
   ],
   "source": [
    "from jgarber_respitch.workshop_tools import convert_df_row_to_dictionary\n",
    "\n",
    "help(convert_df_row_to_dictionary)"
   ]
  },
  {
   "cell_type": "code",
   "execution_count": 21,
   "metadata": {},
   "outputs": [
    {
     "data": {
      "text/plain": [
       "{'Copyright (c) 2000-2021 Ovid Technologies, Inc.': ['ORN'],\n",
       " 'Unnamed: 1': ['VN'],\n",
       " 'Unnamed: 2': ['DB'],\n",
       " 'Unnamed: 3': ['UI'],\n",
       " 'Unnamed: 4': ['ST'],\n",
       " 'Unnamed: 5': ['TI'],\n",
       " 'Unnamed: 6': ['SO'],\n",
       " 'Unnamed: 7': ['AU'],\n",
       " 'Unnamed: 8': ['AO'],\n",
       " 'Unnamed: 9': ['AE'],\n",
       " 'Unnamed: 10': ['IN'],\n",
       " 'Unnamed: 11': ['AD'],\n",
       " 'Unnamed: 12': ['CP'],\n",
       " 'Unnamed: 13': ['PB'],\n",
       " 'Unnamed: 14': ['TJ'],\n",
       " 'Unnamed: 15': ['KW'],\n",
       " 'Unnamed: 16': ['UR'],\n",
       " 'Unnamed: 17': ['MH'],\n",
       " 'Unnamed: 18': ['DU'],\n",
       " 'Unnamed: 19': ['OD'],\n",
       " 'Unnamed: 20': ['AB'],\n",
       " 'Unnamed: 21': ['NR'],\n",
       " 'Unnamed: 22': ['IS'],\n",
       " 'Unnamed: 23': ['EN'],\n",
       " 'Unnamed: 24': ['DO'],\n",
       " 'Unnamed: 25': ['CD'],\n",
       " 'Unnamed: 26': ['LG'],\n",
       " 'Unnamed: 27': ['SL'],\n",
       " 'Unnamed: 28': ['GI'],\n",
       " 'Unnamed: 29': ['GA'],\n",
       " 'Unnamed: 30': ['SU'],\n",
       " 'Unnamed: 31': ['PT'],\n",
       " 'Unnamed: 32': ['EM'],\n",
       " 'Unnamed: 33': ['DD'],\n",
       " 'Unnamed: 34': ['DC'],\n",
       " 'Unnamed: 35': ['YR'],\n",
       " 'Unnamed: 36': ['SI'],\n",
       " 'Unnamed: 37': ['CR'],\n",
       " 'Unnamed: 38': ['FTURL']}"
      ]
     },
     "execution_count": 21,
     "metadata": {},
     "output_type": "execute_result"
    }
   ],
   "source": [
    "convert_df_row_to_dictionary(df,0)"
   ]
  },
  {
   "cell_type": "code",
   "execution_count": 22,
   "metadata": {},
   "outputs": [],
   "source": [
    "EMBASE = {'ORN': [1],\n",
    " 'VN': ['Ovid Technologies'],\n",
    " 'DB': ['Embase'],\n",
    " 'UI': [2011127683],\n",
    " 'ST': ['In-Process'],\n",
    " 'TI': ['There is detectable variation in the lipidomic profile between stable and progressive patients with idiopathic pulmonary fibrosis (IPF).'],\n",
    " 'SO': ['Respiratory Research. 22 (1) (no pagination), 2021. Article Number: 105. Date of Publication: December 2021.'],\n",
    " 'AU': ['Nambiar S.\\n\\nClynick B.\\n\\nHow B.S.\\n\\nKing A.\\n\\nWalters E.H.\\n\\nGoh N.S.\\n\\nCorte T.J.\\n\\nTrengove R.\\n\\nTan D.\\n\\nMoodley Y.'],\n",
    " 'AO': ['Clynick, Britt; ORCID: http://orcid.org/0000-0002-8777-6877'],\n",
    " 'AE': ['Clynick B.; britt.clynick@uwa.edu.au'],\n",
    " 'IN': ['(Nambiar, How, Trengove) Separation Science and Metabolomics Laboratory, Murdoch University, Murdoch, WA, Australia\\n(Clynick, Tan, Moodley) School of Biomedical Science, University of Western Australia, Crawley, WA, Australia\\n(Clynick, Tan, Moodley) Institute for Respiratory Health, Nedlands, WA, Australia\\n(How, Trengove) Metabolomics Australia, Murdoch University, Murdoch, WA, Australia\\n(King) Scientific Operations, Waters Corporation, Stamford Avenue, Wilmslow SK9 4AX, United Kingdom\\n(Walters) Alfred Hospital, Melbourne, VIC, Australia\\n(Walters) University of Tasmania, Hobart, TAS, Australia\\n(Walters) University of Melbourne, Parkville, VIC, Australia\\n(Walters) Royal Hobart Hospital, Hobart, TAS, Australia\\n(Goh) Austin Hospital, Heidelberg, VIC, Australia\\n(Goh) Institute of Breathing and Sleep, Heidelberg, VIC, Australia\\n(Corte) University of Sydney, Camperdown, NSW, Australia\\n(Corte) Royal Prince Alfred Hospital, Camperdown, NSW, Australia\\n(Moodley) Fiona Stanley Hospital, Murdoch, WA, Australia'],\n",
    " 'AD': ['B. Clynick, Institute for Respiratory Health, Nedlands, WA, Australia. E-mail: britt.clynick@uwa.edu.au'],\n",
    " 'CP': ['United Kingdom'],\n",
    " 'PB': ['BioMed Central Ltd'],\n",
    " 'TJ': ['Respiratory Research'],\n",
    " 'KW': ['DIA\\n\\nIPF\\n\\nLipids\\n\\nMS\\n\\nPlasma\\n\\nSONAR'],\n",
    " 'UR': ['http://respiratory-research.com/home/'],\n",
    " 'MH': ['adult\\n\\narticle\\n\\nbody weight\\n\\ncontrolled study\\n\\ndisease simulation\\n\\n*fibrosing alveolitis\\n\\nhuman\\n\\nhuman tissue\\n\\n*lipid fingerprinting\\n\\nlipid metabolism\\n\\ntime of flight mass spectrometry\\n\\nultra performance liquid chromatography\\n\\nlipidome\\n\\nphosphatidylcholine\\n\\n*triacylglycerol'],\n",
    " 'DU': ['lipidome [m]\\n\\nphosphatidylcholine [m]\\n\\n*triacylglycerol [m]'],\n",
    " 'OD': ['adult [m]\\n\\narticle [m]\\n\\nbody weight [m]\\n\\ncontrolled study [m]\\n\\ndisease simulation [m]\\n\\n*fibrosing alveolitis [m]\\n\\nhuman [m]\\n\\nhuman tissue [m]\\n\\n*lipid fingerprinting [m]\\n\\nlipid metabolism [m]\\n\\ntime of flight mass spectrometry [m]\\n\\nultra performance liquid chromatography [m]'],\n",
    " 'AB': ['Background: Idiopathic pulmonary fibrosis (IPF) is a chronic interstitial lung disease characterized by fibrosis and progressive loss of lung function. The pathophysiological pathways involved in IPF are not well understood. Abnormal lipid metabolism has been described in various other chronic lung diseases including asthma and chronic obstructive pulmonary disease (COPD). However, its potential role in IPF pathogenesis remains unclear. Method(s): In this study, we used ultra-performance liquid chromatography-quadrupole time-of-flight mass spectrometry (UPLC-QTOF-MS) to characterize lipid changes in plasma derived from IPF patients with stable and progressive disease. We further applied a data-independent acquisition (DIA) technique called SONAR, to improve the specificity of lipid identification. Result(s): Statistical modelling showed variable discrimination between the stable and progressive subjects, revealing differences in the detection of triglycerides (TG) and phosphatidylcholines (PC) between progressors and stable IPF groups, which was further confirmed by mass spectrometry imaging (MSI) in IPF tissue. Conclusion(s): This is the first study to characterise lipid metabolism between stable and progressive IPF, with results suggesting disparities in the circulating lipidome with disease progression.Copyright © 2021, The Author(s).'],\n",
    " 'NR': [33],\n",
    " 'IS': ['1465-9921'],\n",
    " 'EN': ['1465-993X'],\n",
    " 'DO': ['http://dx.doi.org/10.1186/s12931-021-01682-3'],\n",
    " 'CD': ['RREEB'],\n",
    " 'LG': ['English'],\n",
    " 'SL': ['English'],\n",
    " 'GI': ['No: APP 1066128 Organization: (NHMRC) *National Health and Medical Research Council* Organization No: 501100000925 Country: Australia\\nNo: APP 1099575 Organization: (NHMRC) *National Health and Medical Research Council* Organization No: 501100000925 Country: Australia\\nNo: APP 1147776 Organization: (NHMRC) *National Health and Medical Research Council* Organization No: 501100000925 Country: Australia'],\n",
    " 'GA': ['We would like to thank the co-ordinators of the Australian IPF registry (AIPFR) in each state for the collection of blood samples. Lung Foundation Australia has established the Australian IPF Registry with the generous support of unrestricted educational grant from Foundation Partners Roche Products Pty. Limited and Boehringer Ingelheim. The writers thank all participants and physicians who contribute to the Registry together with the Manager Sacha Macansh, Coordinators Amy Cashmore, Jessica Bucciarelli, Alysha Riley Karen Symons and Data Manager Faye Janice Lim.'],\n",
    " 'SU': ['Journal'],\n",
    " 'PT': ['Article'],\n",
    " 'EM': [202116],\n",
    " 'DD': [20210419],\n",
    " 'DC': [20210418],\n",
    " 'YR': [2021],\n",
    " 'SI': ['Enhancement type=\"17\" status=\"001\"'],\n",
    " 'CR': ['Copyright 2021 Elsevier B.V., All rights reserved.'],\n",
    " 'FTURL': ['Click here for full text options']}"
   ]
  },
  {
   "cell_type": "code",
   "execution_count": 23,
   "metadata": {},
   "outputs": [
    {
     "name": "stdout",
     "output_type": "stream",
     "text": [
      "{'ORN': [1], 'VN': ['Ovid Technologies'], 'DB': ['Embase'], 'UI': [2011127683], 'ST': ['In-Process'], 'TI': ['There is detectable variation in the lipidomic profile between stable and progressive patients with idiopathic pulmonary fibrosis (IPF).'], 'SO': ['Respiratory Research. 22 (1) (no pagination), 2021. Article Number: 105. Date of Publication: December 2021.'], 'AU': ['Nambiar S.\\n\\nClynick B.\\n\\nHow B.S.\\n\\nKing A.\\n\\nWalters E.H.\\n\\nGoh N.S.\\n\\nCorte T.J.\\n\\nTrengove R.\\n\\nTan D.\\n\\nMoodley Y.'], 'AO': ['Clynick, Britt; ORCID: http://orcid.org/0000-0002-8777-6877'], 'AE': ['Clynick B.; britt.clynick@uwa.edu.au'], 'IN': ['(Nambiar, How, Trengove) Separation Science and Metabolomics Laboratory, Murdoch University, Murdoch, WA, Australia\\n(Clynick, Tan, Moodley) School of Biomedical Science, University of Western Australia, Crawley, WA, Australia\\n(Clynick, Tan, Moodley) Institute for Respiratory Health, Nedlands, WA, Australia\\n(How, Trengove) Metabolomics Australia, Murdoch University, Murdoch, WA, Australia\\n(King) Scientific Operations, Waters Corporation, Stamford Avenue, Wilmslow SK9 4AX, United Kingdom\\n(Walters) Alfred Hospital, Melbourne, VIC, Australia\\n(Walters) University of Tasmania, Hobart, TAS, Australia\\n(Walters) University of Melbourne, Parkville, VIC, Australia\\n(Walters) Royal Hobart Hospital, Hobart, TAS, Australia\\n(Goh) Austin Hospital, Heidelberg, VIC, Australia\\n(Goh) Institute of Breathing and Sleep, Heidelberg, VIC, Australia\\n(Corte) University of Sydney, Camperdown, NSW, Australia\\n(Corte) Royal Prince Alfred Hospital, Camperdown, NSW, Australia\\n(Moodley) Fiona Stanley Hospital, Murdoch, WA, Australia'], 'AD': ['B. Clynick, Institute for Respiratory Health, Nedlands, WA, Australia. E-mail: britt.clynick@uwa.edu.au'], 'CP': ['United Kingdom'], 'PB': ['BioMed Central Ltd'], 'TJ': ['Respiratory Research'], 'KW': ['DIA\\n\\nIPF\\n\\nLipids\\n\\nMS\\n\\nPlasma\\n\\nSONAR'], 'UR': ['http://respiratory-research.com/home/'], 'MH': ['adult\\n\\narticle\\n\\nbody weight\\n\\ncontrolled study\\n\\ndisease simulation\\n\\n*fibrosing alveolitis\\n\\nhuman\\n\\nhuman tissue\\n\\n*lipid fingerprinting\\n\\nlipid metabolism\\n\\ntime of flight mass spectrometry\\n\\nultra performance liquid chromatography\\n\\nlipidome\\n\\nphosphatidylcholine\\n\\n*triacylglycerol'], 'DU': ['lipidome [m]\\n\\nphosphatidylcholine [m]\\n\\n*triacylglycerol [m]'], 'OD': ['adult [m]\\n\\narticle [m]\\n\\nbody weight [m]\\n\\ncontrolled study [m]\\n\\ndisease simulation [m]\\n\\n*fibrosing alveolitis [m]\\n\\nhuman [m]\\n\\nhuman tissue [m]\\n\\n*lipid fingerprinting [m]\\n\\nlipid metabolism [m]\\n\\ntime of flight mass spectrometry [m]\\n\\nultra performance liquid chromatography [m]'], 'AB': ['Background: Idiopathic pulmonary fibrosis (IPF) is a chronic interstitial lung disease characterized by fibrosis and progressive loss of lung function. The pathophysiological pathways involved in IPF are not well understood. Abnormal lipid metabolism has been described in various other chronic lung diseases including asthma and chronic obstructive pulmonary disease (COPD). However, its potential role in IPF pathogenesis remains unclear. Method(s): In this study, we used ultra-performance liquid chromatography-quadrupole time-of-flight mass spectrometry (UPLC-QTOF-MS) to characterize lipid changes in plasma derived from IPF patients with stable and progressive disease. We further applied a data-independent acquisition (DIA) technique called SONAR, to improve the specificity of lipid identification. Result(s): Statistical modelling showed variable discrimination between the stable and progressive subjects, revealing differences in the detection of triglycerides (TG) and phosphatidylcholines (PC) between progressors and stable IPF groups, which was further confirmed by mass spectrometry imaging (MSI) in IPF tissue. Conclusion(s): This is the first study to characterise lipid metabolism between stable and progressive IPF, with results suggesting disparities in the circulating lipidome with disease progression.Copyright © 2021, The Author(s).'], 'NR': [33], 'IS': ['1465-9921'], 'EN': ['1465-993X'], 'DO': ['http://dx.doi.org/10.1186/s12931-021-01682-3'], 'CD': ['RREEB'], 'LG': ['English'], 'SL': ['English'], 'GI': ['No: APP 1066128 Organization: (NHMRC) *National Health and Medical Research Council* Organization No: 501100000925 Country: Australia\\nNo: APP 1099575 Organization: (NHMRC) *National Health and Medical Research Council* Organization No: 501100000925 Country: Australia\\nNo: APP 1147776 Organization: (NHMRC) *National Health and Medical Research Council* Organization No: 501100000925 Country: Australia'], 'GA': ['We would like to thank the co-ordinators of the Australian IPF registry (AIPFR) in each state for the collection of blood samples. Lung Foundation Australia has established the Australian IPF Registry with the generous support of unrestricted educational grant from Foundation Partners Roche Products Pty. Limited and Boehringer Ingelheim. The writers thank all participants and physicians who contribute to the Registry together with the Manager Sacha Macansh, Coordinators Amy Cashmore, Jessica Bucciarelli, Alysha Riley Karen Symons and Data Manager Faye Janice Lim.'], 'SU': ['Journal'], 'PT': ['Article'], 'EM': [202116], 'DD': [20210419], 'DC': [20210418], 'YR': [2021], 'SI': ['Enhancement type=\"17\" status=\"001\"'], 'CR': ['Copyright 2021 Elsevier B.V., All rights reserved.'], 'FTURL': ['Click here for full text options']}\n"
     ]
    }
   ],
   "source": [
    "print(EMBASE)"
   ]
  },
  {
   "cell_type": "code",
   "execution_count": 3,
   "metadata": {},
   "outputs": [],
   "source": [
    "em_values = ['ORN', 'VN', 'DB', 'UI', 'ST', 'TI', 'SO', 'AU', 'AO', 'AE', 'IN', 'AD',\n",
    "       'CP', 'PB', 'TJ', 'KW', 'UR', 'MH', 'DU', 'OD', 'AB', 'NR', 'IS', 'EN',\n",
    "       'DO', 'CD', 'LG', 'SL', 'GI', 'GA', 'SU', 'PT', 'EM', 'DD', 'DC', 'YR',\n",
    "       'SI', 'CR', 'FTURL']"
   ]
  },
  {
   "cell_type": "code",
   "execution_count": 4,
   "metadata": {},
   "outputs": [
    {
     "name": "stdout",
     "output_type": "stream",
     "text": [
      "['ORN', 'VN', 'DB', 'UI', 'ST', 'TI', 'SO', 'AU', 'AO', 'AE', 'IN', 'AD', 'CP', 'PB', 'TJ', 'KW', 'UR', 'MH', 'DU', 'OD', 'AB', 'NR', 'IS', 'EN', 'DO', 'CD', 'LG', 'SL', 'GI', 'GA', 'SU', 'PT', 'EM', 'DD', 'DC', 'YR', 'SI', 'CR', 'FTURL']\n"
     ]
    }
   ],
   "source": [
    "print(em_values)"
   ]
  },
  {
   "cell_type": "code",
   "execution_count": 5,
   "metadata": {},
   "outputs": [
    {
     "ename": "TypeError",
     "evalue": "list indices must be integers or slices, not str",
     "output_type": "error",
     "traceback": [
      "\u001b[0;31m---------------------------------------------------------------------------\u001b[0m",
      "\u001b[0;31mTypeError\u001b[0m                                 Traceback (most recent call last)",
      "\u001b[0;32m<ipython-input-5-554e9c0d1ff0>\u001b[0m in \u001b[0;36m<module>\u001b[0;34m\u001b[0m\n\u001b[0;32m----> 1\u001b[0;31m \u001b[0mem_values\u001b[0m\u001b[0;34m[\u001b[0m\u001b[0;34m'YR'\u001b[0m\u001b[0;34m]\u001b[0m\u001b[0;34m=\u001b[0m\u001b[0;34m'dc.date'\u001b[0m\u001b[0;34m\u001b[0m\u001b[0;34m\u001b[0m\u001b[0m\n\u001b[0m\u001b[1;32m      2\u001b[0m \u001b[0mprint\u001b[0m\u001b[0;34m(\u001b[0m\u001b[0mem_values\u001b[0m\u001b[0;34m)\u001b[0m\u001b[0;34m\u001b[0m\u001b[0;34m\u001b[0m\u001b[0m\n",
      "\u001b[0;31mTypeError\u001b[0m: list indices must be integers or slices, not str"
     ]
    }
   ],
   "source": [
    "em_values['YR'] = 'dc.date'\n",
    "print(em_values)"
   ]
  },
  {
   "cell_type": "code",
   "execution_count": 8,
   "metadata": {},
   "outputs": [
    {
     "data": {
      "text/plain": [
       "['Article']"
      ]
     },
     "execution_count": 8,
     "metadata": {},
     "output_type": "execute_result"
    }
   ],
   "source": [
    "EMBASE['PT']"
   ]
  },
  {
   "cell_type": "code",
   "execution_count": 10,
   "metadata": {},
   "outputs": [
    {
     "ename": "AttributeError",
     "evalue": "'dict' object has no attribute 'replace'",
     "output_type": "error",
     "traceback": [
      "\u001b[0;31m---------------------------------------------------------------------------\u001b[0m",
      "\u001b[0;31mAttributeError\u001b[0m                            Traceback (most recent call last)",
      "\u001b[0;32m<ipython-input-10-6f1e7f2b9022>\u001b[0m in \u001b[0;36m<module>\u001b[0;34m\u001b[0m\n\u001b[0;32m----> 1\u001b[0;31m \u001b[0mEMBASE\u001b[0m\u001b[0;34m.\u001b[0m\u001b[0mreplace\u001b[0m\u001b[0;34m(\u001b[0m\u001b[0;34m'http://orcid.org/'\u001b[0m\u001b[0;34m,\u001b[0m\u001b[0;34m''\u001b[0m\u001b[0;34m)\u001b[0m\u001b[0;34m\u001b[0m\u001b[0;34m\u001b[0m\u001b[0m\n\u001b[0m",
      "\u001b[0;31mAttributeError\u001b[0m: 'dict' object has no attribute 'replace'"
     ]
    }
   ],
   "source": [
    "EMBASE.replace('http://orcid.org/','')"
   ]
  },
  {
   "cell_type": "code",
   "execution_count": 11,
   "metadata": {},
   "outputs": [],
   "source": [
    "import numpy as np"
   ]
  },
  {
   "cell_type": "code",
   "execution_count": 13,
   "metadata": {},
   "outputs": [
    {
     "ename": "NameError",
     "evalue": "name 'df' is not defined",
     "output_type": "error",
     "traceback": [
      "\u001b[0;31m---------------------------------------------------------------------------\u001b[0m",
      "\u001b[0;31mNameError\u001b[0m                                 Traceback (most recent call last)",
      "\u001b[0;32m<ipython-input-13-7a6bea573a5e>\u001b[0m in \u001b[0;36m<module>\u001b[0;34m\u001b[0m\n\u001b[1;32m      1\u001b[0m \u001b[0mto_drop\u001b[0m \u001b[0;34m=\u001b[0m \u001b[0;34m[\u001b[0m\u001b[0;34m'FTURL'\u001b[0m\u001b[0;34m]\u001b[0m\u001b[0;34m\u001b[0m\u001b[0;34m\u001b[0m\u001b[0m\n\u001b[0;32m----> 2\u001b[0;31m \u001b[0mdf\u001b[0m\u001b[0;34m.\u001b[0m\u001b[0mdrop\u001b[0m\u001b[0;34m(\u001b[0m\u001b[0mto_drop\u001b[0m\u001b[0;34m,\u001b[0m \u001b[0minplace\u001b[0m\u001b[0;34m=\u001b[0m\u001b[0;32mTrue\u001b[0m\u001b[0;34m,\u001b[0m \u001b[0maxis\u001b[0m\u001b[0;34m=\u001b[0m\u001b[0;36m1\u001b[0m\u001b[0;34m)\u001b[0m\u001b[0;34m\u001b[0m\u001b[0;34m\u001b[0m\u001b[0m\n\u001b[0m\u001b[1;32m      3\u001b[0m \u001b[0mprint\u001b[0m\u001b[0;34m(\u001b[0m\u001b[0mEMBASE\u001b[0m\u001b[0;34m)\u001b[0m\u001b[0;34m\u001b[0m\u001b[0;34m\u001b[0m\u001b[0m\n",
      "\u001b[0;31mNameError\u001b[0m: name 'df' is not defined"
     ]
    }
   ],
   "source": [
    "to_drop = ['FTURL']\n",
    "df.drop(to_drop, inplace=True, axis=1)\n",
    "print(EMBASE)"
   ]
  },
  {
   "cell_type": "code",
   "execution_count": null,
   "metadata": {},
   "outputs": [],
   "source": []
  }
 ],
 "metadata": {
  "colab": {
   "authorship_tag": "ABX9TyMVlH0X3Sv2ZEwvpEnlo5wU",
   "include_colab_link": true,
   "name": "Untitled0.ipynb",
   "provenance": []
  },
  "kernelspec": {
   "display_name": "Python 3",
   "language": "python",
   "name": "python3"
  },
  "language_info": {
   "codemirror_mode": {
    "name": "ipython",
    "version": 3
   },
   "file_extension": ".py",
   "mimetype": "text/x-python",
   "name": "python",
   "nbconvert_exporter": "python",
   "pygments_lexer": "ipython3",
   "version": "3.7.10"
  }
 },
 "nbformat": 4,
 "nbformat_minor": 1
}
