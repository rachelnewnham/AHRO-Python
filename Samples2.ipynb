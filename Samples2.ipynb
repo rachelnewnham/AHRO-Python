{
 "cells": [
  {
   "cell_type": "markdown",
   "metadata": {
    "colab_type": "text",
    "id": "view-in-github"
   },
   "source": [
    "<a href=\"https://colab.research.google.com/github/rachelnewnham/AHRO-Python/blob/main/Trying%20to%20do%20tests.ipynb\" target=\"_parent\"><img src=\"https://colab.research.google.com/assets/colab-badge.svg\" alt=\"Open In Colab\"/></a>"
   ]
  },
  {
   "cell_type": "markdown",
   "metadata": {
    "id": "joBoHgrsy7Dx"
   },
   "source": [
    "# It's an explanation\n",
    "This is a document in which I will try to work out how to process data from various sources into data that can be uploaded into a DSpace repository\n"
   ]
  },
  {
   "cell_type": "markdown",
   "metadata": {},
   "source": [
    "First we need to write some pseudocode about how we will do this activity:\n",
    "\n",
    "### Pseudocode for our exercise\n",
    "Step 0: Upload the libraries you need to run your script\n",
    "\n",
    "Step 1: Upload our csv or dublin core metadata\n",
    "\n",
    "Step 2: Preprocess the data so it is ready to be turned into an xml file\n",
    "\n",
    "Step 3: Turn the data into an xml file\n",
    "\n",
    "Step 4: print out the xml to see if it works"
   ]
  },
  {
   "cell_type": "code",
   "execution_count": 24,
   "metadata": {
    "id": "oku4tf3DzSgB"
   },
   "outputs": [],
   "source": [
    "import pandas as pd"
   ]
  },
  {
   "cell_type": "code",
   "execution_count": 48,
   "metadata": {
    "id": "JgqTXdjyzlA6"
   },
   "outputs": [
    {
     "data": {
      "text/html": [
       "<div>\n",
       "<style scoped>\n",
       "    .dataframe tbody tr th:only-of-type {\n",
       "        vertical-align: middle;\n",
       "    }\n",
       "\n",
       "    .dataframe tbody tr th {\n",
       "        vertical-align: top;\n",
       "    }\n",
       "\n",
       "    .dataframe thead th {\n",
       "        text-align: right;\n",
       "    }\n",
       "</style>\n",
       "<table border=\"1\" class=\"dataframe\">\n",
       "  <thead>\n",
       "    <tr style=\"text-align: right;\">\n",
       "      <th></th>\n",
       "      <th>ORN</th>\n",
       "      <th>VN</th>\n",
       "      <th>DB</th>\n",
       "      <th>UI</th>\n",
       "      <th>ST</th>\n",
       "      <th>TI</th>\n",
       "      <th>SO</th>\n",
       "      <th>AU</th>\n",
       "      <th>AO</th>\n",
       "      <th>AE</th>\n",
       "      <th>...</th>\n",
       "      <th>GA</th>\n",
       "      <th>SU</th>\n",
       "      <th>PT</th>\n",
       "      <th>EM</th>\n",
       "      <th>DD</th>\n",
       "      <th>DC</th>\n",
       "      <th>YR</th>\n",
       "      <th>SI</th>\n",
       "      <th>CR</th>\n",
       "      <th>FTURL</th>\n",
       "    </tr>\n",
       "  </thead>\n",
       "  <tbody>\n",
       "    <tr>\n",
       "      <th>0</th>\n",
       "      <td>1</td>\n",
       "      <td>Ovid Technologies</td>\n",
       "      <td>Embase</td>\n",
       "      <td>2011127683</td>\n",
       "      <td>In-Process</td>\n",
       "      <td>There is detectable variation in the lipidomic...</td>\n",
       "      <td>Respiratory Research. 22 (1) (no pagination), ...</td>\n",
       "      <td>Nambiar S.\\r\\n\\r\\nClynick B.\\r\\n\\r\\nHow B.S.\\r...</td>\n",
       "      <td>Clynick, Britt; ORCID: http://orcid.org/0000-0...</td>\n",
       "      <td>Clynick B.; britt.clynick@uwa.edu.au</td>\n",
       "      <td>...</td>\n",
       "      <td>We would like to thank the co-ordinators of th...</td>\n",
       "      <td>Journal</td>\n",
       "      <td>Article</td>\n",
       "      <td>202116</td>\n",
       "      <td>20210419</td>\n",
       "      <td>20210418</td>\n",
       "      <td>2021</td>\n",
       "      <td>Enhancement type=\"17\" status=\"001\"</td>\n",
       "      <td>Copyright 2021 Elsevier B.V., All rights reser...</td>\n",
       "      <td>Click here for full text options</td>\n",
       "    </tr>\n",
       "  </tbody>\n",
       "</table>\n",
       "<p>1 rows × 39 columns</p>\n",
       "</div>"
      ],
      "text/plain": [
       "   ORN                 VN      DB          UI          ST  \\\n",
       "0    1  Ovid Technologies  Embase  2011127683  In-Process   \n",
       "\n",
       "                                                  TI  \\\n",
       "0  There is detectable variation in the lipidomic...   \n",
       "\n",
       "                                                  SO  \\\n",
       "0  Respiratory Research. 22 (1) (no pagination), ...   \n",
       "\n",
       "                                                  AU  \\\n",
       "0  Nambiar S.\\r\\n\\r\\nClynick B.\\r\\n\\r\\nHow B.S.\\r...   \n",
       "\n",
       "                                                  AO  \\\n",
       "0  Clynick, Britt; ORCID: http://orcid.org/0000-0...   \n",
       "\n",
       "                                     AE  ...  \\\n",
       "0  Clynick B.; britt.clynick@uwa.edu.au  ...   \n",
       "\n",
       "                                                  GA       SU       PT  \\\n",
       "0  We would like to thank the co-ordinators of th...  Journal  Article   \n",
       "\n",
       "       EM        DD        DC    YR                                  SI  \\\n",
       "0  202116  20210419  20210418  2021  Enhancement type=\"17\" status=\"001\"   \n",
       "\n",
       "                                                  CR  \\\n",
       "0  Copyright 2021 Elsevier B.V., All rights reser...   \n",
       "\n",
       "                              FTURL  \n",
       "0  Click here for full text options  \n",
       "\n",
       "[1 rows x 39 columns]"
      ]
     },
     "execution_count": 48,
     "metadata": {},
     "output_type": "execute_result"
    }
   ],
   "source": [
    "# this file is in the same folder as the notebook\n",
    "df = pd.read_csv(\"bmc2021.csv\")\n",
    "\n",
    "df.head()"
   ]
  },
  {
   "cell_type": "markdown",
   "metadata": {},
   "source": [
    "### We'll see what's in the file"
   ]
  },
  {
   "cell_type": "code",
   "execution_count": 49,
   "metadata": {},
   "outputs": [
    {
     "data": {
      "text/plain": [
       "Index(['ORN', 'VN', 'DB', 'UI', 'ST', 'TI', 'SO', 'AU', 'AO', 'AE', 'IN', 'AD',\n",
       "       'CP', 'PB', 'TJ', 'KW', 'UR', 'MH', 'DU', 'OD', 'AB', 'NR', 'IS', 'EN',\n",
       "       'DO', 'CD', 'LG', 'SL', 'GI', 'GA', 'SU', 'PT', 'EM', 'DD', 'DC', 'YR',\n",
       "       'SI', 'CR', 'FTURL'],\n",
       "      dtype='object')"
      ]
     },
     "execution_count": 49,
     "metadata": {},
     "output_type": "execute_result"
    }
   ],
   "source": [
    "df.columns"
   ]
  },
  {
   "cell_type": "code",
   "execution_count": 27,
   "metadata": {},
   "outputs": [
    {
     "data": {
      "text/plain": [
       "(1, 39)"
      ]
     },
     "execution_count": 27,
     "metadata": {},
     "output_type": "execute_result"
    }
   ],
   "source": [
    "df.shape"
   ]
  },
  {
   "cell_type": "markdown",
   "metadata": {},
   "source": [
    "Import our package to process the file to DC"
   ]
  },
  {
   "cell_type": "code",
   "execution_count": 28,
   "metadata": {},
   "outputs": [],
   "source": [
    "from dcxml import simpledc"
   ]
  },
  {
   "cell_type": "markdown",
   "metadata": {},
   "source": [
    "then we'll make a dictionary from a dataframe"
   ]
  },
  {
   "cell_type": "code",
   "execution_count": 29,
   "metadata": {},
   "outputs": [
    {
     "name": "stdout",
     "output_type": "stream",
     "text": [
      "Help on function convert_df_row_to_dictionary in module jgarber_respitch.workshop_tools:\n",
      "\n",
      "convert_df_row_to_dictionary(df: pandas.core.frame.DataFrame, row_number: int)\n",
      "    converts the row of a dataframe to a dictionary\n",
      "    of lists\n",
      "    \n",
      "    :param df: input dataframe\n",
      "    :type df: pd.DataFrame\n",
      "    :param row_number: row to convert into a dictionary\n",
      "    \n",
      "    :return: dictionary of the values, where keys are the column names, and the values are lists of the values\n",
      "    :rtype: dictionary\n",
      "\n"
     ]
    }
   ],
   "source": [
    "from jgarber_respitch.workshop_tools import convert_df_row_to_dictionary\n",
    "\n",
    "help(convert_df_row_to_dictionary)"
   ]
  },
  {
   "cell_type": "code",
   "execution_count": 30,
   "metadata": {
    "scrolled": false
   },
   "outputs": [
    {
     "data": {
      "text/plain": [
       "{'ORN': [1],\n",
       " 'VN': ['Ovid Technologies'],\n",
       " 'DB': ['Embase'],\n",
       " 'UI': [2011127683],\n",
       " 'ST': ['In-Process'],\n",
       " 'TI': ['There is detectable variation in the lipidomic profile between stable and progressive patients with idiopathic pulmonary fibrosis (IPF).'],\n",
       " 'SO': ['Respiratory Research. 22 (1) (no pagination), 2021. Article Number: 105. Date of Publication: December 2021.'],\n",
       " 'AU': ['Nambiar S.\\r\\n\\r\\nClynick B.\\r\\n\\r\\nHow B.S.\\r\\n\\r\\nKing A.\\r\\n\\r\\nWalters E.H.\\r\\n\\r\\nGoh N.S.\\r\\n\\r\\nCorte T.J.\\r\\n\\r\\nTrengove R.\\r\\n\\r\\nTan D.\\r\\n\\r\\nMoodley Y.'],\n",
       " 'AO': ['Clynick, Britt; ORCID: http://orcid.org/0000-0002-8777-6877'],\n",
       " 'AE': ['Clynick B.; britt.clynick@uwa.edu.au'],\n",
       " 'IN': ['(Nambiar, How, Trengove) Separation Science and Metabolomics Laboratory, Murdoch University, Murdoch, WA, Australia\\r\\n(Clynick, Tan, Moodley) School of Biomedical Science, University of Western Australia, Crawley, WA, Australia\\r\\n(Clynick, Tan, Moodley) Institute for Respiratory Health, Nedlands, WA, Australia\\r\\n(How, Trengove) Metabolomics Australia, Murdoch University, Murdoch, WA, Australia\\r\\n(King) Scientific Operations, Waters Corporation, Stamford Avenue, Wilmslow SK9 4AX, United Kingdom\\r\\n(Walters) Alfred Hospital, Melbourne, VIC, Australia\\r\\n(Walters) University of Tasmania, Hobart, TAS, Australia\\r\\n(Walters) University of Melbourne, Parkville, VIC, Australia\\r\\n(Walters) Royal Hobart Hospital, Hobart, TAS, Australia\\r\\n(Goh) Austin Hospital, Heidelberg, VIC, Australia\\r\\n(Goh) Institute of Breathing and Sleep, Heidelberg, VIC, Australia\\r\\n(Corte) University of Sydney, Camperdown, NSW, Australia\\r\\n(Corte) Royal Prince Alfred Hospital, Camperdown, NSW, Australia\\r\\n(Moodley) Fiona Stanley Hospital, Murdoch, WA, Australia'],\n",
       " 'AD': ['B. Clynick, Institute for Respiratory Health, Nedlands, WA, Australia. E-mail: britt.clynick@uwa.edu.au'],\n",
       " 'CP': ['United Kingdom'],\n",
       " 'PB': ['BioMed Central Ltd'],\n",
       " 'TJ': ['Respiratory Research'],\n",
       " 'KW': ['DIA\\r\\n\\r\\nIPF\\r\\n\\r\\nLipids\\r\\n\\r\\nMS\\r\\n\\r\\nPlasma\\r\\n\\r\\nSONAR'],\n",
       " 'UR': ['http://respiratory-research.com/home/'],\n",
       " 'MH': ['adult\\r\\n\\r\\narticle\\r\\n\\r\\nbody weight\\r\\n\\r\\ncontrolled study\\r\\n\\r\\ndisease simulation\\r\\n\\r\\n*fibrosing alveolitis\\r\\n\\r\\nhuman\\r\\n\\r\\nhuman tissue\\r\\n\\r\\n*lipid fingerprinting\\r\\n\\r\\nlipid metabolism\\r\\n\\r\\ntime of flight mass spectrometry\\r\\n\\r\\nultra performance liquid chromatography\\r\\n\\r\\nlipidome\\r\\n\\r\\nphosphatidylcholine\\r\\n\\r\\n*triacylglycerol'],\n",
       " 'DU': ['lipidome [m]\\r\\n\\r\\nphosphatidylcholine [m]\\r\\n\\r\\n*triacylglycerol [m]'],\n",
       " 'OD': ['adult [m]\\r\\n\\r\\narticle [m]\\r\\n\\r\\nbody weight [m]\\r\\n\\r\\ncontrolled study [m]\\r\\n\\r\\ndisease simulation [m]\\r\\n\\r\\n*fibrosing alveolitis [m]\\r\\n\\r\\nhuman [m]\\r\\n\\r\\nhuman tissue [m]\\r\\n\\r\\n*lipid fingerprinting [m]\\r\\n\\r\\nlipid metabolism [m]\\r\\n\\r\\ntime of flight mass spectrometry [m]\\r\\n\\r\\nultra performance liquid chromatography [m]'],\n",
       " 'AB': ['Background: Idiopathic pulmonary fibrosis (IPF) is a chronic interstitial lung disease characterized by fibrosis and progressive loss of lung function. The pathophysiological pathways involved in IPF are not well understood. Abnormal lipid metabolism has been described in various other chronic lung diseases including asthma and chronic obstructive pulmonary disease (COPD). However, its potential role in IPF pathogenesis remains unclear. Method(s): In this study, we used ultra-performance liquid chromatography-quadrupole time-of-flight mass spectrometry (UPLC-QTOF-MS) to characterize lipid changes in plasma derived from IPF patients with stable and progressive disease. We further applied a data-independent acquisition (DIA) technique called SONAR, to improve the specificity of lipid identification. Result(s): Statistical modelling showed variable discrimination between the stable and progressive subjects, revealing differences in the detection of triglycerides (TG) and phosphatidylcholines (PC) between progressors and stable IPF groups, which was further confirmed by mass spectrometry imaging (MSI) in IPF tissue. Conclusion(s): This is the first study to characterise lipid metabolism between stable and progressive IPF, with results suggesting disparities in the circulating lipidome with disease progression.Copyright © 2021, The Author(s).'],\n",
       " 'NR': [33],\n",
       " 'IS': ['1465-9921'],\n",
       " 'EN': ['1465-993X'],\n",
       " 'DO': ['http://dx.doi.org/10.1186/s12931-021-01682-3'],\n",
       " 'CD': ['RREEB'],\n",
       " 'LG': ['English'],\n",
       " 'SL': ['English'],\n",
       " 'GI': ['No: APP 1066128 Organization: (NHMRC) *National Health and Medical Research Council* Organization No: 501100000925 Country: Australia\\r\\nNo: APP 1099575 Organization: (NHMRC) *National Health and Medical Research Council* Organization No: 501100000925 Country: Australia\\r\\nNo: APP 1147776 Organization: (NHMRC) *National Health and Medical Research Council* Organization No: 501100000925 Country: Australia'],\n",
       " 'GA': ['We would like to thank the co-ordinators of the Australian IPF registry (AIPFR) in each state for the collection of blood samples. Lung Foundation Australia has established the Australian IPF Registry with the generous support of unrestricted educational grant from Foundation Partners Roche Products Pty. Limited and Boehringer Ingelheim. The writers thank all participants and physicians who contribute to the Registry together with the Manager Sacha Macansh, Coordinators Amy Cashmore, Jessica Bucciarelli, Alysha Riley Karen Symons and Data Manager Faye Janice Lim.'],\n",
       " 'SU': ['Journal'],\n",
       " 'PT': ['Article'],\n",
       " 'EM': [202116],\n",
       " 'DD': [20210419],\n",
       " 'DC': [20210418],\n",
       " 'YR': [2021],\n",
       " 'SI': ['Enhancement type=\"17\" status=\"001\"'],\n",
       " 'CR': ['Copyright 2021 Elsevier B.V., All rights reserved.'],\n",
       " 'FTURL': ['Click here for full text options']}"
      ]
     },
     "execution_count": 30,
     "metadata": {},
     "output_type": "execute_result"
    }
   ],
   "source": [
    "convert_df_row_to_dictionary(df,0)"
   ]
  },
  {
   "cell_type": "code",
   "execution_count": 62,
   "metadata": {},
   "outputs": [],
   "source": [
    "import numpy as np"
   ]
  },
  {
   "cell_type": "markdown",
   "metadata": {},
   "source": [
    "Remove some columns"
   ]
  },
  {
   "cell_type": "code",
   "execution_count": 32,
   "metadata": {},
   "outputs": [
    {
     "data": {
      "text/html": [
       "<div>\n",
       "<style scoped>\n",
       "    .dataframe tbody tr th:only-of-type {\n",
       "        vertical-align: middle;\n",
       "    }\n",
       "\n",
       "    .dataframe tbody tr th {\n",
       "        vertical-align: top;\n",
       "    }\n",
       "\n",
       "    .dataframe thead th {\n",
       "        text-align: right;\n",
       "    }\n",
       "</style>\n",
       "<table border=\"1\" class=\"dataframe\">\n",
       "  <thead>\n",
       "    <tr style=\"text-align: right;\">\n",
       "      <th></th>\n",
       "      <th>UI</th>\n",
       "      <th>ST</th>\n",
       "      <th>TI</th>\n",
       "      <th>SO</th>\n",
       "      <th>AU</th>\n",
       "      <th>AO</th>\n",
       "      <th>AE</th>\n",
       "      <th>IN</th>\n",
       "      <th>AD</th>\n",
       "      <th>CP</th>\n",
       "      <th>...</th>\n",
       "      <th>SL</th>\n",
       "      <th>GI</th>\n",
       "      <th>GA</th>\n",
       "      <th>SU</th>\n",
       "      <th>PT</th>\n",
       "      <th>EM</th>\n",
       "      <th>DD</th>\n",
       "      <th>DC</th>\n",
       "      <th>YR</th>\n",
       "      <th>CR</th>\n",
       "    </tr>\n",
       "  </thead>\n",
       "  <tbody>\n",
       "    <tr>\n",
       "      <th>0</th>\n",
       "      <td>2011127683</td>\n",
       "      <td>In-Process</td>\n",
       "      <td>There is detectable variation in the lipidomic...</td>\n",
       "      <td>Respiratory Research. 22 (1) (no pagination), ...</td>\n",
       "      <td>Nambiar S.\\r\\n\\r\\nClynick B.\\r\\n\\r\\nHow B.S.\\r...</td>\n",
       "      <td>Clynick, Britt; ORCID: http://orcid.org/0000-0...</td>\n",
       "      <td>Clynick B.; britt.clynick@uwa.edu.au</td>\n",
       "      <td>(Nambiar, How, Trengove) Separation Science an...</td>\n",
       "      <td>B. Clynick, Institute for Respiratory Health, ...</td>\n",
       "      <td>United Kingdom</td>\n",
       "      <td>...</td>\n",
       "      <td>English</td>\n",
       "      <td>No: APP 1066128 Organization: (NHMRC) *Nationa...</td>\n",
       "      <td>We would like to thank the co-ordinators of th...</td>\n",
       "      <td>Journal</td>\n",
       "      <td>Article</td>\n",
       "      <td>202116</td>\n",
       "      <td>20210419</td>\n",
       "      <td>20210418</td>\n",
       "      <td>2021</td>\n",
       "      <td>Copyright 2021 Elsevier B.V., All rights reser...</td>\n",
       "    </tr>\n",
       "  </tbody>\n",
       "</table>\n",
       "<p>1 rows × 34 columns</p>\n",
       "</div>"
      ],
      "text/plain": [
       "           UI          ST                                                 TI  \\\n",
       "0  2011127683  In-Process  There is detectable variation in the lipidomic...   \n",
       "\n",
       "                                                  SO  \\\n",
       "0  Respiratory Research. 22 (1) (no pagination), ...   \n",
       "\n",
       "                                                  AU  \\\n",
       "0  Nambiar S.\\r\\n\\r\\nClynick B.\\r\\n\\r\\nHow B.S.\\r...   \n",
       "\n",
       "                                                  AO  \\\n",
       "0  Clynick, Britt; ORCID: http://orcid.org/0000-0...   \n",
       "\n",
       "                                     AE  \\\n",
       "0  Clynick B.; britt.clynick@uwa.edu.au   \n",
       "\n",
       "                                                  IN  \\\n",
       "0  (Nambiar, How, Trengove) Separation Science an...   \n",
       "\n",
       "                                                  AD              CP  ...  \\\n",
       "0  B. Clynick, Institute for Respiratory Health, ...  United Kingdom  ...   \n",
       "\n",
       "        SL                                                 GI  \\\n",
       "0  English  No: APP 1066128 Organization: (NHMRC) *Nationa...   \n",
       "\n",
       "                                                  GA       SU       PT  \\\n",
       "0  We would like to thank the co-ordinators of th...  Journal  Article   \n",
       "\n",
       "       EM        DD        DC    YR  \\\n",
       "0  202116  20210419  20210418  2021   \n",
       "\n",
       "                                                  CR  \n",
       "0  Copyright 2021 Elsevier B.V., All rights reser...  \n",
       "\n",
       "[1 rows x 34 columns]"
      ]
     },
     "execution_count": 32,
     "metadata": {},
     "output_type": "execute_result"
    }
   ],
   "source": [
    "to_drop = ['SI','ORN','VN','DB','FTURL']\n",
    "df.drop(to_drop, inplace=True, axis=1)\n",
    "df.head()"
   ]
  },
  {
   "cell_type": "code",
   "execution_count": 50,
   "metadata": {},
   "outputs": [
    {
     "data": {
      "text/plain": [
       "ORN                                                      1\n",
       "VN                                       Ovid Technologies\n",
       "DB                                                  Embase\n",
       "UI                                              2011127683\n",
       "ST                                              In-Process\n",
       "TI       There is detectable variation in the lipidomic...\n",
       "SO       Respiratory Research. 22 (1) (no pagination), ...\n",
       "AU       Nambiar S.\\r\\n\\r\\nClynick B.\\r\\n\\r\\nHow B.S.\\r...\n",
       "AO       Clynick, Britt; ORCID: http://orcid.org/0000-0...\n",
       "AE                    Clynick B.; britt.clynick@uwa.edu.au\n",
       "IN       (Nambiar, How, Trengove) Separation Science an...\n",
       "AD       B. Clynick, Institute for Respiratory Health, ...\n",
       "CP                                          United Kingdom\n",
       "PB                                      BioMed Central Ltd\n",
       "TJ                                    Respiratory Research\n",
       "KW       DIA\\r\\n\\r\\nIPF\\r\\n\\r\\nLipids\\r\\n\\r\\nMS\\r\\n\\r\\n...\n",
       "UR                   http://respiratory-research.com/home/\n",
       "MH       adult\\r\\n\\r\\narticle\\r\\n\\r\\nbody weight\\r\\n\\r\\...\n",
       "DU       lipidome [m]\\r\\n\\r\\nphosphatidylcholine [m]\\r\\...\n",
       "OD       adult [m]\\r\\n\\r\\narticle [m]\\r\\n\\r\\nbody weigh...\n",
       "AB       Background: Idiopathic pulmonary fibrosis (IPF...\n",
       "NR                                                      33\n",
       "IS                                               1465-9921\n",
       "EN                                               1465-993X\n",
       "DO            http://dx.doi.org/10.1186/s12931-021-01682-3\n",
       "CD                                                   RREEB\n",
       "LG                                                 English\n",
       "SL                                                 English\n",
       "GI       No: APP 1066128 Organization: (NHMRC) *Nationa...\n",
       "GA       We would like to thank the co-ordinators of th...\n",
       "SU                                                 Journal\n",
       "PT                                                 Article\n",
       "EM                                                  202116\n",
       "DD                                                20210419\n",
       "DC                                                20210418\n",
       "YR                                                    2021\n",
       "SI                      Enhancement type=\"17\" status=\"001\"\n",
       "CR       Copyright 2021 Elsevier B.V., All rights reser...\n",
       "FTURL                     Click here for full text options\n",
       "Name: 0, dtype: object"
      ]
     },
     "execution_count": 50,
     "metadata": {},
     "output_type": "execute_result"
    }
   ],
   "source": [
    "df.loc[0]"
   ]
  },
  {
   "cell_type": "code",
   "execution_count": 37,
   "metadata": {},
   "outputs": [],
   "source": [
    "df.set_index('AU', inplace=True)"
   ]
  },
  {
   "cell_type": "code",
   "execution_count": 59,
   "metadata": {},
   "outputs": [
    {
     "ename": "KeyError",
     "evalue": "'au'",
     "output_type": "error",
     "traceback": [
      "\u001b[0;31m---------------------------------------------------------------------------\u001b[0m",
      "\u001b[0;31mKeyError\u001b[0m                                  Traceback (most recent call last)",
      "\u001b[0;32m<ipython-input-59-d73a1bd249ae>\u001b[0m in \u001b[0;36m<module>\u001b[0;34m\u001b[0m\n\u001b[0;32m----> 1\u001b[0;31m \u001b[0mdf\u001b[0m\u001b[0;34m.\u001b[0m\u001b[0mloc\u001b[0m\u001b[0;34m[\u001b[0m\u001b[0;34m'au'\u001b[0m\u001b[0;34m]\u001b[0m\u001b[0;34m\u001b[0m\u001b[0;34m\u001b[0m\u001b[0m\n\u001b[0m",
      "\u001b[0;32m/srv/conda/envs/notebook/lib/python3.7/site-packages/pandas/core/indexing.py\u001b[0m in \u001b[0;36m__getitem__\u001b[0;34m(self, key)\u001b[0m\n\u001b[1;32m    893\u001b[0m \u001b[0;34m\u001b[0m\u001b[0m\n\u001b[1;32m    894\u001b[0m             \u001b[0mmaybe_callable\u001b[0m \u001b[0;34m=\u001b[0m \u001b[0mcom\u001b[0m\u001b[0;34m.\u001b[0m\u001b[0mapply_if_callable\u001b[0m\u001b[0;34m(\u001b[0m\u001b[0mkey\u001b[0m\u001b[0;34m,\u001b[0m \u001b[0mself\u001b[0m\u001b[0;34m.\u001b[0m\u001b[0mobj\u001b[0m\u001b[0;34m)\u001b[0m\u001b[0;34m\u001b[0m\u001b[0;34m\u001b[0m\u001b[0m\n\u001b[0;32m--> 895\u001b[0;31m             \u001b[0;32mreturn\u001b[0m \u001b[0mself\u001b[0m\u001b[0;34m.\u001b[0m\u001b[0m_getitem_axis\u001b[0m\u001b[0;34m(\u001b[0m\u001b[0mmaybe_callable\u001b[0m\u001b[0;34m,\u001b[0m \u001b[0maxis\u001b[0m\u001b[0;34m=\u001b[0m\u001b[0maxis\u001b[0m\u001b[0;34m)\u001b[0m\u001b[0;34m\u001b[0m\u001b[0;34m\u001b[0m\u001b[0m\n\u001b[0m\u001b[1;32m    896\u001b[0m \u001b[0;34m\u001b[0m\u001b[0m\n\u001b[1;32m    897\u001b[0m     \u001b[0;32mdef\u001b[0m \u001b[0m_is_scalar_access\u001b[0m\u001b[0;34m(\u001b[0m\u001b[0mself\u001b[0m\u001b[0;34m,\u001b[0m \u001b[0mkey\u001b[0m\u001b[0;34m:\u001b[0m \u001b[0mTuple\u001b[0m\u001b[0;34m)\u001b[0m\u001b[0;34m:\u001b[0m\u001b[0;34m\u001b[0m\u001b[0;34m\u001b[0m\u001b[0m\n",
      "\u001b[0;32m/srv/conda/envs/notebook/lib/python3.7/site-packages/pandas/core/indexing.py\u001b[0m in \u001b[0;36m_getitem_axis\u001b[0;34m(self, key, axis)\u001b[0m\n\u001b[1;32m   1122\u001b[0m         \u001b[0;31m# fall thru to straight lookup\u001b[0m\u001b[0;34m\u001b[0m\u001b[0;34m\u001b[0m\u001b[0;34m\u001b[0m\u001b[0m\n\u001b[1;32m   1123\u001b[0m         \u001b[0mself\u001b[0m\u001b[0;34m.\u001b[0m\u001b[0m_validate_key\u001b[0m\u001b[0;34m(\u001b[0m\u001b[0mkey\u001b[0m\u001b[0;34m,\u001b[0m \u001b[0maxis\u001b[0m\u001b[0;34m)\u001b[0m\u001b[0;34m\u001b[0m\u001b[0;34m\u001b[0m\u001b[0m\n\u001b[0;32m-> 1124\u001b[0;31m         \u001b[0;32mreturn\u001b[0m \u001b[0mself\u001b[0m\u001b[0;34m.\u001b[0m\u001b[0m_get_label\u001b[0m\u001b[0;34m(\u001b[0m\u001b[0mkey\u001b[0m\u001b[0;34m,\u001b[0m \u001b[0maxis\u001b[0m\u001b[0;34m=\u001b[0m\u001b[0maxis\u001b[0m\u001b[0;34m)\u001b[0m\u001b[0;34m\u001b[0m\u001b[0;34m\u001b[0m\u001b[0m\n\u001b[0m\u001b[1;32m   1125\u001b[0m \u001b[0;34m\u001b[0m\u001b[0m\n\u001b[1;32m   1126\u001b[0m     \u001b[0;32mdef\u001b[0m \u001b[0m_get_slice_axis\u001b[0m\u001b[0;34m(\u001b[0m\u001b[0mself\u001b[0m\u001b[0;34m,\u001b[0m \u001b[0mslice_obj\u001b[0m\u001b[0;34m:\u001b[0m \u001b[0mslice\u001b[0m\u001b[0;34m,\u001b[0m \u001b[0maxis\u001b[0m\u001b[0;34m:\u001b[0m \u001b[0mint\u001b[0m\u001b[0;34m)\u001b[0m\u001b[0;34m:\u001b[0m\u001b[0;34m\u001b[0m\u001b[0;34m\u001b[0m\u001b[0m\n",
      "\u001b[0;32m/srv/conda/envs/notebook/lib/python3.7/site-packages/pandas/core/indexing.py\u001b[0m in \u001b[0;36m_get_label\u001b[0;34m(self, label, axis)\u001b[0m\n\u001b[1;32m   1071\u001b[0m     \u001b[0;32mdef\u001b[0m \u001b[0m_get_label\u001b[0m\u001b[0;34m(\u001b[0m\u001b[0mself\u001b[0m\u001b[0;34m,\u001b[0m \u001b[0mlabel\u001b[0m\u001b[0;34m,\u001b[0m \u001b[0maxis\u001b[0m\u001b[0;34m:\u001b[0m \u001b[0mint\u001b[0m\u001b[0;34m)\u001b[0m\u001b[0;34m:\u001b[0m\u001b[0;34m\u001b[0m\u001b[0;34m\u001b[0m\u001b[0m\n\u001b[1;32m   1072\u001b[0m         \u001b[0;31m# GH#5667 this will fail if the label is not present in the axis.\u001b[0m\u001b[0;34m\u001b[0m\u001b[0;34m\u001b[0m\u001b[0;34m\u001b[0m\u001b[0m\n\u001b[0;32m-> 1073\u001b[0;31m         \u001b[0;32mreturn\u001b[0m \u001b[0mself\u001b[0m\u001b[0;34m.\u001b[0m\u001b[0mobj\u001b[0m\u001b[0;34m.\u001b[0m\u001b[0mxs\u001b[0m\u001b[0;34m(\u001b[0m\u001b[0mlabel\u001b[0m\u001b[0;34m,\u001b[0m \u001b[0maxis\u001b[0m\u001b[0;34m=\u001b[0m\u001b[0maxis\u001b[0m\u001b[0;34m)\u001b[0m\u001b[0;34m\u001b[0m\u001b[0;34m\u001b[0m\u001b[0m\n\u001b[0m\u001b[1;32m   1074\u001b[0m \u001b[0;34m\u001b[0m\u001b[0m\n\u001b[1;32m   1075\u001b[0m     \u001b[0;32mdef\u001b[0m \u001b[0m_handle_lowerdim_multi_index_axis0\u001b[0m\u001b[0;34m(\u001b[0m\u001b[0mself\u001b[0m\u001b[0;34m,\u001b[0m \u001b[0mtup\u001b[0m\u001b[0;34m:\u001b[0m \u001b[0mTuple\u001b[0m\u001b[0;34m)\u001b[0m\u001b[0;34m:\u001b[0m\u001b[0;34m\u001b[0m\u001b[0;34m\u001b[0m\u001b[0m\n",
      "\u001b[0;32m/srv/conda/envs/notebook/lib/python3.7/site-packages/pandas/core/generic.py\u001b[0m in \u001b[0;36mxs\u001b[0;34m(self, key, axis, level, drop_level)\u001b[0m\n\u001b[1;32m   3737\u001b[0m                 \u001b[0;32mraise\u001b[0m \u001b[0mTypeError\u001b[0m\u001b[0;34m(\u001b[0m\u001b[0;34mf\"Expected label or tuple of labels, got {key}\"\u001b[0m\u001b[0;34m)\u001b[0m \u001b[0;32mfrom\u001b[0m \u001b[0me\u001b[0m\u001b[0;34m\u001b[0m\u001b[0;34m\u001b[0m\u001b[0m\n\u001b[1;32m   3738\u001b[0m         \u001b[0;32melse\u001b[0m\u001b[0;34m:\u001b[0m\u001b[0;34m\u001b[0m\u001b[0;34m\u001b[0m\u001b[0m\n\u001b[0;32m-> 3739\u001b[0;31m             \u001b[0mloc\u001b[0m \u001b[0;34m=\u001b[0m \u001b[0mindex\u001b[0m\u001b[0;34m.\u001b[0m\u001b[0mget_loc\u001b[0m\u001b[0;34m(\u001b[0m\u001b[0mkey\u001b[0m\u001b[0;34m)\u001b[0m\u001b[0;34m\u001b[0m\u001b[0;34m\u001b[0m\u001b[0m\n\u001b[0m\u001b[1;32m   3740\u001b[0m \u001b[0;34m\u001b[0m\u001b[0m\n\u001b[1;32m   3741\u001b[0m             \u001b[0;32mif\u001b[0m \u001b[0misinstance\u001b[0m\u001b[0;34m(\u001b[0m\u001b[0mloc\u001b[0m\u001b[0;34m,\u001b[0m \u001b[0mnp\u001b[0m\u001b[0;34m.\u001b[0m\u001b[0mndarray\u001b[0m\u001b[0;34m)\u001b[0m\u001b[0;34m:\u001b[0m\u001b[0;34m\u001b[0m\u001b[0;34m\u001b[0m\u001b[0m\n",
      "\u001b[0;32m/srv/conda/envs/notebook/lib/python3.7/site-packages/pandas/core/indexes/range.py\u001b[0m in \u001b[0;36mget_loc\u001b[0;34m(self, key, method, tolerance)\u001b[0m\n\u001b[1;32m    352\u001b[0m                 \u001b[0;32mexcept\u001b[0m \u001b[0mValueError\u001b[0m \u001b[0;32mas\u001b[0m \u001b[0merr\u001b[0m\u001b[0;34m:\u001b[0m\u001b[0;34m\u001b[0m\u001b[0;34m\u001b[0m\u001b[0m\n\u001b[1;32m    353\u001b[0m                     \u001b[0;32mraise\u001b[0m \u001b[0mKeyError\u001b[0m\u001b[0;34m(\u001b[0m\u001b[0mkey\u001b[0m\u001b[0;34m)\u001b[0m \u001b[0;32mfrom\u001b[0m \u001b[0merr\u001b[0m\u001b[0;34m\u001b[0m\u001b[0;34m\u001b[0m\u001b[0m\n\u001b[0;32m--> 354\u001b[0;31m             \u001b[0;32mraise\u001b[0m \u001b[0mKeyError\u001b[0m\u001b[0;34m(\u001b[0m\u001b[0mkey\u001b[0m\u001b[0;34m)\u001b[0m\u001b[0;34m\u001b[0m\u001b[0;34m\u001b[0m\u001b[0m\n\u001b[0m\u001b[1;32m    355\u001b[0m         \u001b[0;32mreturn\u001b[0m \u001b[0msuper\u001b[0m\u001b[0;34m(\u001b[0m\u001b[0;34m)\u001b[0m\u001b[0;34m.\u001b[0m\u001b[0mget_loc\u001b[0m\u001b[0;34m(\u001b[0m\u001b[0mkey\u001b[0m\u001b[0;34m,\u001b[0m \u001b[0mmethod\u001b[0m\u001b[0;34m=\u001b[0m\u001b[0mmethod\u001b[0m\u001b[0;34m,\u001b[0m \u001b[0mtolerance\u001b[0m\u001b[0;34m=\u001b[0m\u001b[0mtolerance\u001b[0m\u001b[0;34m)\u001b[0m\u001b[0;34m\u001b[0m\u001b[0;34m\u001b[0m\u001b[0m\n\u001b[1;32m    356\u001b[0m \u001b[0;34m\u001b[0m\u001b[0m\n",
      "\u001b[0;31mKeyError\u001b[0m: 'au'"
     ]
    }
   ],
   "source": [
    "df.loc['au']"
   ]
  },
  {
   "cell_type": "code",
   "execution_count": 60,
   "metadata": {},
   "outputs": [
    {
     "data": {
      "text/html": [
       "<div>\n",
       "<style scoped>\n",
       "    .dataframe tbody tr th:only-of-type {\n",
       "        vertical-align: middle;\n",
       "    }\n",
       "\n",
       "    .dataframe tbody tr th {\n",
       "        vertical-align: top;\n",
       "    }\n",
       "\n",
       "    .dataframe thead th {\n",
       "        text-align: right;\n",
       "    }\n",
       "</style>\n",
       "<table border=\"1\" class=\"dataframe\">\n",
       "  <thead>\n",
       "    <tr style=\"text-align: right;\">\n",
       "      <th></th>\n",
       "      <th>ORN</th>\n",
       "      <th>VN</th>\n",
       "      <th>DB</th>\n",
       "      <th>UI</th>\n",
       "      <th>ST</th>\n",
       "      <th>TI</th>\n",
       "      <th>SO</th>\n",
       "      <th>AU</th>\n",
       "      <th>AO</th>\n",
       "      <th>AE</th>\n",
       "      <th>...</th>\n",
       "      <th>GA</th>\n",
       "      <th>SU</th>\n",
       "      <th>PT</th>\n",
       "      <th>EM</th>\n",
       "      <th>DD</th>\n",
       "      <th>DC</th>\n",
       "      <th>YR</th>\n",
       "      <th>SI</th>\n",
       "      <th>CR</th>\n",
       "      <th>FTURL</th>\n",
       "    </tr>\n",
       "  </thead>\n",
       "  <tbody>\n",
       "    <tr>\n",
       "      <th>0</th>\n",
       "      <td>1</td>\n",
       "      <td>Ovid Technologies</td>\n",
       "      <td>Embase</td>\n",
       "      <td>2011127683</td>\n",
       "      <td>In-Process</td>\n",
       "      <td>There is detectable variation in the lipidomic...</td>\n",
       "      <td>Respiratory Research. 22 (1) (no pagination), ...</td>\n",
       "      <td>Nambiar S.\\r\\n\\r\\nClynick B.\\r\\n\\r\\nHow B.S.\\r...</td>\n",
       "      <td>Clynick, Britt; ORCID: http://orcid.org/0000-0...</td>\n",
       "      <td>Clynick B.; britt.clynick@uwa.edu.au</td>\n",
       "      <td>...</td>\n",
       "      <td>We would like to thank the co-ordinators of th...</td>\n",
       "      <td>Journal</td>\n",
       "      <td>Article</td>\n",
       "      <td>202116</td>\n",
       "      <td>20210419</td>\n",
       "      <td>20210418</td>\n",
       "      <td>2021</td>\n",
       "      <td>Enhancement type=\"17\" status=\"001\"</td>\n",
       "      <td>Copyright 2021 Elsevier B.V., All rights reser...</td>\n",
       "      <td>Click here for full text options</td>\n",
       "    </tr>\n",
       "  </tbody>\n",
       "</table>\n",
       "<p>1 rows × 39 columns</p>\n",
       "</div>"
      ],
      "text/plain": [
       "   ORN                 VN      DB          UI          ST  \\\n",
       "0    1  Ovid Technologies  Embase  2011127683  In-Process   \n",
       "\n",
       "                                                  TI  \\\n",
       "0  There is detectable variation in the lipidomic...   \n",
       "\n",
       "                                                  SO  \\\n",
       "0  Respiratory Research. 22 (1) (no pagination), ...   \n",
       "\n",
       "                                                  AU  \\\n",
       "0  Nambiar S.\\r\\n\\r\\nClynick B.\\r\\n\\r\\nHow B.S.\\r...   \n",
       "\n",
       "                                                  AO  \\\n",
       "0  Clynick, Britt; ORCID: http://orcid.org/0000-0...   \n",
       "\n",
       "                                     AE  ...  \\\n",
       "0  Clynick B.; britt.clynick@uwa.edu.au  ...   \n",
       "\n",
       "                                                  GA       SU       PT  \\\n",
       "0  We would like to thank the co-ordinators of th...  Journal  Article   \n",
       "\n",
       "       EM        DD        DC    YR                                  SI  \\\n",
       "0  202116  20210419  20210418  2021  Enhancement type=\"17\" status=\"001\"   \n",
       "\n",
       "                                                  CR  \\\n",
       "0  Copyright 2021 Elsevier B.V., All rights reser...   \n",
       "\n",
       "                              FTURL  \n",
       "0  Click here for full text options  \n",
       "\n",
       "[1 rows x 39 columns]"
      ]
     },
     "execution_count": 60,
     "metadata": {},
     "output_type": "execute_result"
    }
   ],
   "source": [
    "df.head()"
   ]
  },
  {
   "cell_type": "code",
   "execution_count": null,
   "metadata": {},
   "outputs": [],
   "source": []
  }
 ],
 "metadata": {
  "colab": {
   "authorship_tag": "ABX9TyMVlH0X3Sv2ZEwvpEnlo5wU",
   "include_colab_link": true,
   "name": "Untitled0.ipynb",
   "provenance": []
  },
  "kernelspec": {
   "display_name": "Python 3",
   "language": "python",
   "name": "python3"
  },
  "language_info": {
   "codemirror_mode": {
    "name": "ipython",
    "version": 3
   },
   "file_extension": ".py",
   "mimetype": "text/x-python",
   "name": "python",
   "nbconvert_exporter": "python",
   "pygments_lexer": "ipython3",
   "version": "3.7.10"
  }
 },
 "nbformat": 4,
 "nbformat_minor": 1
}
